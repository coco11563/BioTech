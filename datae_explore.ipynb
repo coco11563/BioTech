{
 "cells": [
  {
   "cell_type": "code",
   "execution_count": 4,
   "outputs": [],
   "source": [
    "import scanpy\n",
    "import torch"
   ],
   "metadata": {
    "collapsed": false,
    "pycharm": {
     "name": "#%%\n"
    }
   }
  },
  {
   "cell_type": "code",
   "execution_count": 5,
   "outputs": [
    {
     "name": "stdout",
     "output_type": "stream",
     "text": [
      "ACDNE\t\t       HiAGM\t      Pretrain-NER\r\n",
      "BioTech\t\t       HMC_methods    RL-TKDE\r\n",
      "C-HMCNN\t\t       HMDG\t      TaskEENER\r\n",
      "CONNA\t\t       HMLC2022       TCforSciTech\r\n",
      "data\t\t       HMLC_baseline  tmp\r\n",
      "DisciplineEmbedding    HMT\t      word2vec.model\r\n",
      "DisciplineTransformer  HMTransformer  word2vec.model.syn1neg.npy\r\n",
      "ExampleBaseNER\t       KGHMT\t      word2vec.model.wv.vectors.npy\r\n",
      "GCNMeta\t\t       KG_Related\r\n"
     ]
    }
   ],
   "source": [
    "!ls"
   ],
   "metadata": {
    "collapsed": false,
    "pycharm": {
     "name": "#%%\n"
    }
   }
  },
  {
   "cell_type": "code",
   "execution_count": 6,
   "outputs": [],
   "source": [
    "adt_feature = scanpy.read_h5ad('./BioTech/data/ADT.h5ad')"
   ],
   "metadata": {
    "collapsed": false,
    "pycharm": {
     "name": "#%%\n"
    }
   }
  },
  {
   "cell_type": "code",
   "execution_count": 7,
   "outputs": [
    {
     "name": "stderr",
     "output_type": "stream",
     "text": [
      "/home/xiaomeng/miniconda3/envs/shaow/lib/python3.9/site-packages/anndata/compat/__init__.py:232: FutureWarning: Moving element from .uns['neighbors']['distances'] to .obsp['distances'].\n",
      "\n",
      "This is where adjacency matrices should go now.\n",
      "  warn(\n"
     ]
    }
   ],
   "source": [
    "sct_feature = scanpy.read_h5ad('./BioTech/data/SCT.h5ad')"
   ],
   "metadata": {
    "collapsed": false,
    "pycharm": {
     "name": "#%%\n"
    }
   }
  },
  {
   "cell_type": "code",
   "execution_count": 7,
   "outputs": [],
   "source": [
    "adt_f = adt_feature.X\n",
    "cols = adt_feature.var['features']"
   ],
   "metadata": {
    "collapsed": false,
    "pycharm": {
     "name": "#%%\n"
    }
   }
  },
  {
   "cell_type": "code",
   "execution_count": 54,
   "outputs": [
    {
     "data": {
      "text/plain": "L1_AAACCCAAGAAACTCA      4\nL1_AAACCCAAGACATACA      1\nL1_AAACCCACAACTGGTT      2\nL1_AAACCCACACGTACTA      5\nL1_AAACCCACAGCATACT      2\n                        ..\nE2L8_TTTGTTGGTCGTGATT    2\nE2L8_TTTGTTGGTGTGCCTG    4\nE2L8_TTTGTTGGTTAGTTCG    0\nE2L8_TTTGTTGGTTGGCTAT    4\nE2L8_TTTGTTGTCTCATGGA    4\nName: celltype.l1, Length: 161764, dtype: int32"
     },
     "execution_count": 54,
     "metadata": {},
     "output_type": "execute_result"
    }
   ],
   "source": [
    "cell_type_l1"
   ],
   "metadata": {
    "collapsed": false,
    "pycharm": {
     "name": "#%%\n"
    }
   }
  },
  {
   "cell_type": "code",
   "execution_count": 8,
   "outputs": [
    {
     "name": "stdout",
     "output_type": "stream",
     "text": [
      "count    161764.000000\n",
      "mean          2.845139\n",
      "std           1.882180\n",
      "min           0.000000\n",
      "25%           1.000000\n",
      "50%           3.000000\n",
      "75%           4.000000\n",
      "max           7.000000\n",
      "Name: celltype.l1, dtype: float64\n",
      "count    161764.000000\n",
      "mean         10.505199\n",
      "std           7.803747\n",
      "min           0.000000\n",
      "25%           4.000000\n",
      "50%           7.000000\n",
      "75%          14.000000\n",
      "max          30.000000\n",
      "Name: celltype.l2, dtype: float64\n",
      "count    161764.000000\n",
      "mean         19.932241\n",
      "std          15.618279\n",
      "min           0.000000\n",
      "25%           8.000000\n",
      "50%          11.000000\n",
      "75%          29.000000\n",
      "max          57.000000\n",
      "Name: celltype.l3, dtype: float64\n",
      "{'l1:7=>l2:20=>l3:42', 'l1:6=>l2:21=>l3:43', 'l1:5=>l2:24=>l3:48', 'l1:3=>l2:0=>l3:1', 'l1:5=>l2:26=>l3:51', 'l1:0=>l2:1=>l3:2', 'l1:2=>l2:14=>l3:30', 'l1:2=>l2:14=>l3:29', 'l1:6=>l2:22=>l3:44', 'l1:0=>l2:1=>l3:3', 'l1:5=>l2:25=>l3:46', 'l1:0=>l2:2=>l3:5', 'l1:0=>l2:28=>l3:54', 'l1:2=>l2:12=>l3:22', 'l1:2=>l2:13=>l3:25', 'l1:5=>l2:24=>l3:50', 'l1:6=>l2:18=>l3:37', 'l1:4=>l2:4=>l3:8', 'l1:2=>l2:14=>l3:31', 'l1:3=>l2:16=>l3:33', 'l1:1=>l2:10=>l3:18', 'l1:0=>l2:28=>l3:53', 'l1:1=>l2:10=>l3:19', 'l1:1=>l2:10=>l3:17', 'l1:2=>l2:14=>l3:27', 'l1:4=>l2:5=>l3:9', 'l1:1=>l2:9=>l3:15', 'l1:1=>l2:9=>l3:14', 'l1:6=>l2:19=>l3:38', 'l1:5=>l2:24=>l3:47', 'l1:1=>l2:7=>l3:11', 'l1:2=>l2:14=>l3:28', 'l1:6=>l2:29=>l3:55', 'l1:3=>l2:27=>l3:52', 'l1:1=>l2:6=>l3:10', 'l1:1=>l2:30=>l3:57', 'l1:2=>l2:11=>l3:20', 'l1:1=>l2:8=>l3:12', 'l1:2=>l2:14=>l3:26', 'l1:3=>l2:16=>l3:34', 'l1:7=>l2:20=>l3:39', 'l1:0=>l2:3=>l3:7', 'l1:3=>l2:0=>l3:0', 'l1:2=>l2:11=>l3:21', 'l1:0=>l2:3=>l3:6', 'l1:0=>l2:2=>l3:4', 'l1:7=>l2:17=>l3:35', 'l1:7=>l2:17=>l3:36', 'l1:7=>l2:20=>l3:40', 'l1:7=>l2:23=>l3:45', 'l1:2=>l2:13=>l3:23', 'l1:1=>l2:9=>l3:13', 'l1:2=>l2:13=>l3:24', 'l1:7=>l2:20=>l3:41', 'l1:1=>l2:10=>l3:16', 'l1:1=>l2:30=>l3:56', 'l1:3=>l2:15=>l3:32', 'l1:5=>l2:24=>l3:49'}\n",
      "58\n"
     ]
    }
   ],
   "source": [
    "cell_type_l1 = adt_feature.obs['celltype.l1']\n",
    "cell_type_l2 = adt_feature.obs['celltype.l2']\n",
    "cell_type_l3 = adt_feature.obs['celltype.l3']\n",
    "print(cell_type_l1.describe())\n",
    "print(cell_type_l2.describe())\n",
    "print(cell_type_l3.describe())\n",
    "edge_dict = set()\n",
    "for index, l1 in enumerate(cell_type_l1):\n",
    "\tl2 = cell_type_l2[index]\n",
    "\tl3 = cell_type_l3[index]\n",
    "\tedge_dict.add(f'l1:{l1}=>l2:{l2}=>l3:{l3}')\n",
    "\n",
    "\t# edge_dict.add(f'l1:{l2}=>l2:{l3}')\n",
    "print(edge_dict)\n",
    "print(len(edge_dict))"
   ],
   "metadata": {
    "collapsed": false,
    "pycharm": {
     "name": "#%%\n"
    }
   }
  },
  {
   "cell_type": "code",
   "execution_count": 9,
   "outputs": [],
   "source": [
    "unique_set = set()\n",
    "for item in edge_dict:\n",
    "\tunique_set.add(item.split(':')[-1])\n",
    "assert len(unique_set) == len(edge_dict)\n",
    "\n",
    "# 这里的l3 label 数量和整体的组成数量一致，可以直接拿l3作为class"
   ],
   "metadata": {
    "collapsed": false,
    "pycharm": {
     "name": "#%%\n"
    }
   }
  },
  {
   "cell_type": "code",
   "execution_count": 10,
   "outputs": [],
   "source": [
    "import numpy as np\n",
    "import pandas\n",
    "ADT_frame = pandas.DataFrame(np.concatenate((adt_f, np.array(cell_type_l3).reshape(-1, 1)), 1))\n",
    "ADF_cols = []\n",
    "for i in cols:\n",
    "\tADF_cols.append(i)\n",
    "ADF_cols.append('cls')\n",
    "ADT_frame.index = cell_type_l3.index\n",
    "ADT_frame.columns = ADF_cols"
   ],
   "metadata": {
    "collapsed": false,
    "pycharm": {
     "name": "#%%\n"
    }
   }
  },
  {
   "cell_type": "code",
   "execution_count": 11,
   "outputs": [],
   "source": [
    "ADT_frame.to_csv('BioTech/data/ADT.csv')"
   ],
   "metadata": {
    "collapsed": false,
    "pycharm": {
     "name": "#%%\n"
    }
   }
  },
  {
   "cell_type": "code",
   "execution_count": 12,
   "outputs": [],
   "source": [
    "adt_id = adt_feature.obs.index"
   ],
   "metadata": {
    "collapsed": false,
    "pycharm": {
     "name": "#%%\n"
    }
   }
  },
  {
   "cell_type": "code",
   "execution_count": 13,
   "outputs": [],
   "source": [
    "sct_f = sct_feature.X\n",
    "sct_cols = sct_feature.var['features']\n",
    "SCT_frame = pandas.DataFrame(np.concatenate((sct_f.toarray(), np.array(cell_type_l3).reshape(-1, 1)), 1))\n",
    "SCT_cols = []\n",
    "for i in sct_cols:\n",
    "\tSCT_cols.append(i)\n",
    "SCT_cols.append('cls')\n",
    "SCT_frame.index = cell_type_l3.index\n",
    "SCT_frame.columns = SCT_cols"
   ],
   "metadata": {
    "collapsed": false,
    "pycharm": {
     "name": "#%%\n"
    }
   }
  },
  {
   "cell_type": "code",
   "execution_count": 14,
   "outputs": [],
   "source": [
    "SCT_frame.to_csv('./data/SCT.csv')"
   ],
   "metadata": {
    "collapsed": false,
    "pycharm": {
     "name": "#%%\n"
    }
   }
  },
  {
   "cell_type": "code",
   "execution_count": 15,
   "outputs": [
    {
     "data": {
      "text/plain": "                           CD80      CD86     CD274     CD273   CD275-1  \\\nL1_AAACCCAAGAAACTCA    0.163833  1.555691  0.236672  0.304564  0.304564   \nL1_AAACCCAAGACATACA    0.000000  0.576001  0.122057  0.230823  0.646437   \nL1_AAACCCACAACTGGTT    0.241610  0.520723  0.000000  0.241610  0.861407   \nL1_AAACCCACACGTACTA    0.138565  0.260245  0.466557  0.138565  0.783441   \nL1_AAACCCACAGCATACT    0.225821  0.322103  0.699828  0.409924  0.699828   \n...                         ...       ...       ...       ...       ...   \nE2L8_TTTGTTGGTCGTGATT  0.175243  0.000000  0.175243  0.000000  0.454007   \nE2L8_TTTGTTGGTGTGCCTG  0.177314  1.846115  0.255424  0.177314  0.092582   \nE2L8_TTTGTTGGTTAGTTCG  0.000000  0.356631  0.356631  0.000000  0.251282   \nE2L8_TTTGTTGGTTGGCTAT  0.316916  1.573209  0.246599  0.089129  0.170960   \nE2L8_TTTGTTGTCTCATGGA  0.000000  1.222747  0.118789  0.000000  0.488984   \n\n                        CD11b-1  Galectin-9     CD270     CD252     CD155  \\\nL1_AAACCCAAGAAACTCA    3.062595    0.484313  0.726632  0.368139  1.114222   \nL1_AAACCCAAGACATACA    2.188174    1.123985  0.988663  0.418232  0.230823   \nL1_AAACCCACAACTGGTT    2.075570    0.738689  0.861407  0.128084  0.598778   \nL1_AAACCCACACGTACTA    2.323826    0.368712  0.466557  0.000000  0.466557   \nL1_AAACCCACAGCATACT    1.802869    0.818350  0.699828  0.322103  0.409924   \n...                         ...         ...       ...       ...       ...   \nE2L8_TTTGTTGGTCGTGATT  1.850502    0.765104  0.175243  0.175243  0.175243   \nE2L8_TTTGTTGGTGTGCCTG  3.743042    0.518211  0.255424  0.327872  1.388066   \nE2L8_TTTGTTGGTTAGTTCG  1.838158    0.356631  0.998437  0.000000  0.000000   \nE2L8_TTTGTTGGTTGGCTAT  2.306828    0.444257  0.609220  0.382612  0.793845   \nE2L8_TTTGTTGTCTCATGGA  2.439642    0.488984  0.697664  0.224953  0.970670   \n\n                       ...     CCR10     CD271     GP130     CD199    CD45RB  \\\nL1_AAACCCAAGAAACTCA    ...  1.300262  0.085268  0.368139  0.921535  0.163833   \nL1_AAACCCAAGACATACA    ...  0.988663  0.418232  0.646437  0.576001  0.832119   \nL1_AAACCCACAACTGGTT    ...  1.069212  0.598778  0.343552  1.158886  1.545330   \nL1_AAACCCACACGTACTA    ...  1.341259  0.466557  0.260245  0.637499  0.260245   \nL1_AAACCCACAGCATACT    ...  0.973346  0.409924  0.872729  0.490651  1.692611   \n...                    ...       ...       ...       ...       ...       ...   \nE2L8_TTTGTTGGTCGTGATT  ...  0.568799  0.671761  0.929124  0.671761  1.722208   \nE2L8_TTTGTTGGTGTGCCTG  ...  0.574377  0.458701  0.678048  0.678048  0.255424   \nE2L8_TTTGTTGGTTAGTTCG  ...  0.693075  0.693075  0.356631  0.618972  1.349819   \nE2L8_TTTGTTGGTTGGCTAT  ...  0.835127  0.502321  0.874772  0.705787  0.382612   \nE2L8_TTTGTTGTCTCATGGA  ...  0.870226  0.563489  0.758554  0.632825  0.488984   \n\n                           CD46   VEGFR-3     CLEC2    CD26-2   cls  \nL1_AAACCCAAGAAACTCA    1.324224  0.368139  1.803933  0.636622   8.0  \nL1_AAACCCAAGACATACA    1.445850  0.328911  1.414794  1.165308  13.0  \nL1_AAACCCACAACTGGTT    1.545330  0.598778  1.545330  1.200877  20.0  \nL1_AAACCCACACGTACTA    0.910771  0.466557  1.612003  0.637499  48.0  \nL1_AAACCCACAGCATACT    1.692611  0.119271  1.823534  0.973346  20.0  \n...                         ...       ...       ...       ...   ...  \nE2L8_TTTGTTGGTCGTGATT  1.402310  0.324307  1.687386  0.929124  20.0  \nE2L8_TTTGTTGGTGTGCCTG  1.259051  0.395425  2.234547  0.678048   8.0  \nE2L8_TTTGTTGGTTAGTTCG  0.944373  0.133513  2.243615  0.538936   2.0  \nE2L8_TTTGTTGGTTGGCTAT  1.019286  0.246599  2.297502  0.658669   9.0  \nE2L8_TTTGTTGTCTCATGGA  1.361241  0.408479  1.665531  0.697664   8.0  \n\n[161764 rows x 225 columns]",
      "text/html": "<div>\n<style scoped>\n    .dataframe tbody tr th:only-of-type {\n        vertical-align: middle;\n    }\n\n    .dataframe tbody tr th {\n        vertical-align: top;\n    }\n\n    .dataframe thead th {\n        text-align: right;\n    }\n</style>\n<table border=\"1\" class=\"dataframe\">\n  <thead>\n    <tr style=\"text-align: right;\">\n      <th></th>\n      <th>CD80</th>\n      <th>CD86</th>\n      <th>CD274</th>\n      <th>CD273</th>\n      <th>CD275-1</th>\n      <th>CD11b-1</th>\n      <th>Galectin-9</th>\n      <th>CD270</th>\n      <th>CD252</th>\n      <th>CD155</th>\n      <th>...</th>\n      <th>CCR10</th>\n      <th>CD271</th>\n      <th>GP130</th>\n      <th>CD199</th>\n      <th>CD45RB</th>\n      <th>CD46</th>\n      <th>VEGFR-3</th>\n      <th>CLEC2</th>\n      <th>CD26-2</th>\n      <th>cls</th>\n    </tr>\n  </thead>\n  <tbody>\n    <tr>\n      <th>L1_AAACCCAAGAAACTCA</th>\n      <td>0.163833</td>\n      <td>1.555691</td>\n      <td>0.236672</td>\n      <td>0.304564</td>\n      <td>0.304564</td>\n      <td>3.062595</td>\n      <td>0.484313</td>\n      <td>0.726632</td>\n      <td>0.368139</td>\n      <td>1.114222</td>\n      <td>...</td>\n      <td>1.300262</td>\n      <td>0.085268</td>\n      <td>0.368139</td>\n      <td>0.921535</td>\n      <td>0.163833</td>\n      <td>1.324224</td>\n      <td>0.368139</td>\n      <td>1.803933</td>\n      <td>0.636622</td>\n      <td>8.0</td>\n    </tr>\n    <tr>\n      <th>L1_AAACCCAAGACATACA</th>\n      <td>0.000000</td>\n      <td>0.576001</td>\n      <td>0.122057</td>\n      <td>0.230823</td>\n      <td>0.646437</td>\n      <td>2.188174</td>\n      <td>1.123985</td>\n      <td>0.988663</td>\n      <td>0.418232</td>\n      <td>0.230823</td>\n      <td>...</td>\n      <td>0.988663</td>\n      <td>0.418232</td>\n      <td>0.646437</td>\n      <td>0.576001</td>\n      <td>0.832119</td>\n      <td>1.445850</td>\n      <td>0.328911</td>\n      <td>1.414794</td>\n      <td>1.165308</td>\n      <td>13.0</td>\n    </tr>\n    <tr>\n      <th>L1_AAACCCACAACTGGTT</th>\n      <td>0.241610</td>\n      <td>0.520723</td>\n      <td>0.000000</td>\n      <td>0.241610</td>\n      <td>0.861407</td>\n      <td>2.075570</td>\n      <td>0.738689</td>\n      <td>0.861407</td>\n      <td>0.128084</td>\n      <td>0.598778</td>\n      <td>...</td>\n      <td>1.069212</td>\n      <td>0.598778</td>\n      <td>0.343552</td>\n      <td>1.158886</td>\n      <td>1.545330</td>\n      <td>1.545330</td>\n      <td>0.598778</td>\n      <td>1.545330</td>\n      <td>1.200877</td>\n      <td>20.0</td>\n    </tr>\n    <tr>\n      <th>L1_AAACCCACACGTACTA</th>\n      <td>0.138565</td>\n      <td>0.260245</td>\n      <td>0.466557</td>\n      <td>0.138565</td>\n      <td>0.783441</td>\n      <td>2.323826</td>\n      <td>0.368712</td>\n      <td>0.466557</td>\n      <td>0.000000</td>\n      <td>0.466557</td>\n      <td>...</td>\n      <td>1.341259</td>\n      <td>0.466557</td>\n      <td>0.260245</td>\n      <td>0.637499</td>\n      <td>0.260245</td>\n      <td>0.910771</td>\n      <td>0.466557</td>\n      <td>1.612003</td>\n      <td>0.637499</td>\n      <td>48.0</td>\n    </tr>\n    <tr>\n      <th>L1_AAACCCACAGCATACT</th>\n      <td>0.225821</td>\n      <td>0.322103</td>\n      <td>0.699828</td>\n      <td>0.409924</td>\n      <td>0.699828</td>\n      <td>1.802869</td>\n      <td>0.818350</td>\n      <td>0.699828</td>\n      <td>0.322103</td>\n      <td>0.409924</td>\n      <td>...</td>\n      <td>0.973346</td>\n      <td>0.409924</td>\n      <td>0.872729</td>\n      <td>0.490651</td>\n      <td>1.692611</td>\n      <td>1.692611</td>\n      <td>0.119271</td>\n      <td>1.823534</td>\n      <td>0.973346</td>\n      <td>20.0</td>\n    </tr>\n    <tr>\n      <th>...</th>\n      <td>...</td>\n      <td>...</td>\n      <td>...</td>\n      <td>...</td>\n      <td>...</td>\n      <td>...</td>\n      <td>...</td>\n      <td>...</td>\n      <td>...</td>\n      <td>...</td>\n      <td>...</td>\n      <td>...</td>\n      <td>...</td>\n      <td>...</td>\n      <td>...</td>\n      <td>...</td>\n      <td>...</td>\n      <td>...</td>\n      <td>...</td>\n      <td>...</td>\n      <td>...</td>\n    </tr>\n    <tr>\n      <th>E2L8_TTTGTTGGTCGTGATT</th>\n      <td>0.175243</td>\n      <td>0.000000</td>\n      <td>0.175243</td>\n      <td>0.000000</td>\n      <td>0.454007</td>\n      <td>1.850502</td>\n      <td>0.765104</td>\n      <td>0.175243</td>\n      <td>0.175243</td>\n      <td>0.175243</td>\n      <td>...</td>\n      <td>0.568799</td>\n      <td>0.671761</td>\n      <td>0.929124</td>\n      <td>0.671761</td>\n      <td>1.722208</td>\n      <td>1.402310</td>\n      <td>0.324307</td>\n      <td>1.687386</td>\n      <td>0.929124</td>\n      <td>20.0</td>\n    </tr>\n    <tr>\n      <th>E2L8_TTTGTTGGTGTGCCTG</th>\n      <td>0.177314</td>\n      <td>1.846115</td>\n      <td>0.255424</td>\n      <td>0.177314</td>\n      <td>0.092582</td>\n      <td>3.743042</td>\n      <td>0.518211</td>\n      <td>0.255424</td>\n      <td>0.327872</td>\n      <td>1.388066</td>\n      <td>...</td>\n      <td>0.574377</td>\n      <td>0.458701</td>\n      <td>0.678048</td>\n      <td>0.678048</td>\n      <td>0.255424</td>\n      <td>1.259051</td>\n      <td>0.395425</td>\n      <td>2.234547</td>\n      <td>0.678048</td>\n      <td>8.0</td>\n    </tr>\n    <tr>\n      <th>E2L8_TTTGTTGGTTAGTTCG</th>\n      <td>0.000000</td>\n      <td>0.356631</td>\n      <td>0.356631</td>\n      <td>0.000000</td>\n      <td>0.251282</td>\n      <td>1.838158</td>\n      <td>0.356631</td>\n      <td>0.998437</td>\n      <td>0.000000</td>\n      <td>0.000000</td>\n      <td>...</td>\n      <td>0.693075</td>\n      <td>0.693075</td>\n      <td>0.356631</td>\n      <td>0.618972</td>\n      <td>1.349819</td>\n      <td>0.944373</td>\n      <td>0.133513</td>\n      <td>2.243615</td>\n      <td>0.538936</td>\n      <td>2.0</td>\n    </tr>\n    <tr>\n      <th>E2L8_TTTGTTGGTTGGCTAT</th>\n      <td>0.316916</td>\n      <td>1.573209</td>\n      <td>0.246599</td>\n      <td>0.089129</td>\n      <td>0.170960</td>\n      <td>2.306828</td>\n      <td>0.444257</td>\n      <td>0.609220</td>\n      <td>0.382612</td>\n      <td>0.793845</td>\n      <td>...</td>\n      <td>0.835127</td>\n      <td>0.502321</td>\n      <td>0.874772</td>\n      <td>0.705787</td>\n      <td>0.382612</td>\n      <td>1.019286</td>\n      <td>0.246599</td>\n      <td>2.297502</td>\n      <td>0.658669</td>\n      <td>9.0</td>\n    </tr>\n    <tr>\n      <th>E2L8_TTTGTTGTCTCATGGA</th>\n      <td>0.000000</td>\n      <td>1.222747</td>\n      <td>0.118789</td>\n      <td>0.000000</td>\n      <td>0.488984</td>\n      <td>2.439642</td>\n      <td>0.488984</td>\n      <td>0.697664</td>\n      <td>0.224953</td>\n      <td>0.970670</td>\n      <td>...</td>\n      <td>0.870226</td>\n      <td>0.563489</td>\n      <td>0.758554</td>\n      <td>0.632825</td>\n      <td>0.488984</td>\n      <td>1.361241</td>\n      <td>0.408479</td>\n      <td>1.665531</td>\n      <td>0.697664</td>\n      <td>8.0</td>\n    </tr>\n  </tbody>\n</table>\n<p>161764 rows × 225 columns</p>\n</div>"
     },
     "execution_count": 15,
     "metadata": {},
     "output_type": "execute_result"
    }
   ],
   "source": [
    "ADT_frame"
   ],
   "metadata": {
    "collapsed": false,
    "pycharm": {
     "name": "#%%\n"
    }
   }
  },
  {
   "cell_type": "code",
   "execution_count": 16,
   "outputs": [],
   "source": [
    "from sklearn.metrics.pairwise import pairwise_distances"
   ],
   "metadata": {
    "collapsed": false,
    "pycharm": {
     "name": "#%%\n"
    }
   }
  },
  {
   "cell_type": "code",
   "execution_count": 25,
   "outputs": [],
   "source": [
    "SCT_feature = torch.tensor(SCT_frame.values[:,:-1])\n",
    "ADT_feature = torch.tensor(ADT_frame.values[:,:-1])"
   ],
   "metadata": {
    "collapsed": false,
    "pycharm": {
     "name": "#%%\n"
    }
   }
  },
  {
   "cell_type": "code",
   "execution_count": 35,
   "outputs": [],
   "source": [
    "import tqdm\n",
    "def KNN_Graph(feature, k):\n",
    "\tedge_dicts = dict()\n",
    "\tfor id, i in tqdm.tqdm(enumerate(feature)):\n",
    "\t\tdist = torch.norm(torch.cdist(i.unsqueeze(0), feature))\n",
    "\t\tprint(dist.shape)\n",
    "\t\tknn = dist.topk(k, largest=False)\n",
    "\t\tedge_dicts[id] = knn\n",
    "\treturn edge_dicts\n"
   ],
   "metadata": {
    "collapsed": false,
    "pycharm": {
     "name": "#%%\n"
    }
   }
  },
  {
   "cell_type": "code",
   "execution_count": 36,
   "outputs": [
    {
     "name": "stderr",
     "output_type": "stream",
     "text": [
      "0it [00:06, ?it/s]"
     ]
    },
    {
     "name": "stdout",
     "output_type": "stream",
     "text": [
      "torch.Size([])\n"
     ]
    },
    {
     "name": "stderr",
     "output_type": "stream",
     "text": [
      "\n"
     ]
    },
    {
     "ename": "RuntimeError",
     "evalue": "selected index k out of range",
     "output_type": "error",
     "traceback": [
      "\u001B[0;31m---------------------------------------------------------------------------\u001B[0m",
      "\u001B[0;31mRuntimeError\u001B[0m                              Traceback (most recent call last)",
      "Input \u001B[0;32mIn [36]\u001B[0m, in \u001B[0;36m<cell line: 1>\u001B[0;34m()\u001B[0m\n\u001B[0;32m----> 1\u001B[0m \u001B[43mKNN_Graph\u001B[49m\u001B[43m(\u001B[49m\u001B[43mSCT_feature\u001B[49m\u001B[43m,\u001B[49m\u001B[43m \u001B[49m\u001B[38;5;241;43m100\u001B[39;49m\u001B[43m)\u001B[49m\n",
      "Input \u001B[0;32mIn [35]\u001B[0m, in \u001B[0;36mKNN_Graph\u001B[0;34m(feature, k)\u001B[0m\n\u001B[1;32m      5\u001B[0m \tdist \u001B[38;5;241m=\u001B[39m torch\u001B[38;5;241m.\u001B[39mnorm(torch\u001B[38;5;241m.\u001B[39mcdist(i\u001B[38;5;241m.\u001B[39munsqueeze(\u001B[38;5;241m0\u001B[39m), feature))\n\u001B[1;32m      6\u001B[0m \t\u001B[38;5;28mprint\u001B[39m(dist\u001B[38;5;241m.\u001B[39mshape)\n\u001B[0;32m----> 7\u001B[0m \tknn \u001B[38;5;241m=\u001B[39m \u001B[43mdist\u001B[49m\u001B[38;5;241;43m.\u001B[39;49m\u001B[43mtopk\u001B[49m\u001B[43m(\u001B[49m\u001B[43mk\u001B[49m\u001B[43m,\u001B[49m\u001B[43m \u001B[49m\u001B[43mlargest\u001B[49m\u001B[38;5;241;43m=\u001B[39;49m\u001B[38;5;28;43;01mFalse\u001B[39;49;00m\u001B[43m)\u001B[49m\n\u001B[1;32m      8\u001B[0m \tedge_dicts[\u001B[38;5;28mid\u001B[39m] \u001B[38;5;241m=\u001B[39m knn\n\u001B[1;32m      9\u001B[0m \u001B[38;5;28;01mreturn\u001B[39;00m edge_dicts\n",
      "\u001B[0;31mRuntimeError\u001B[0m: selected index k out of range"
     ]
    }
   ],
   "source": [
    "KNN_Graph(SCT_feature, 100)"
   ],
   "metadata": {
    "collapsed": false,
    "pycharm": {
     "name": "#%%\n"
    }
   }
  },
  {
   "cell_type": "code",
   "execution_count": 43,
   "outputs": [],
   "source": [
    "ADT_dist = torch.cdist(ADT_feature, ADT_feature)"
   ],
   "metadata": {
    "collapsed": false,
    "pycharm": {
     "name": "#%%\n"
    }
   }
  },
  {
   "cell_type": "code",
   "execution_count": 50,
   "outputs": [
    {
     "data": {
      "text/plain": "torch.return_types.topk(\nvalues=tensor([0.0000, 3.5434, 3.5461, 3.5767], dtype=torch.float64),\nindices=tensor([    0, 10842, 24494,  1633]))"
     },
     "execution_count": 50,
     "metadata": {},
     "output_type": "execute_result"
    }
   ],
   "source": [
    "ADT_dist[0].topk(10, largest=False) # 10 - 20"
   ],
   "metadata": {
    "collapsed": false,
    "pycharm": {
     "name": "#%%\n"
    }
   }
  },
  {
   "cell_type": "code",
   "execution_count": 51,
   "outputs": [],
   "source": [
    "SCT_dist = torch.cdist(SCT_feature, SCT_feature)"
   ],
   "metadata": {
    "collapsed": false,
    "pycharm": {
     "name": "#%%\n"
    }
   }
  },
  {
   "cell_type": "code",
   "execution_count": 52,
   "outputs": [],
   "source": [
    "torch.save(ADT_dist, './BioTech/data/ADT_dist.pt')"
   ],
   "metadata": {
    "collapsed": false,
    "pycharm": {
     "name": "#%%\n"
    }
   }
  },
  {
   "cell_type": "code",
   "execution_count": 53,
   "outputs": [],
   "source": [
    "torch.save(SCT_dist, './BioTech/data/SCT_dist.pt')"
   ],
   "metadata": {
    "collapsed": false,
    "pycharm": {
     "name": "#%%\n"
    }
   }
  },
  {
   "cell_type": "code",
   "execution_count": null,
   "outputs": [],
   "source": [
    "# CITE/ [SCT] CITE-seq => mRNA [s v3]\n",
    "# / [ADT] => protein\n",
    "\n",
    "# kdd => method"
   ],
   "metadata": {
    "collapsed": false,
    "pycharm": {
     "name": "#%%\n"
    }
   }
  },
  {
   "cell_type": "code",
   "execution_count": 1,
   "outputs": [],
   "source": [
    "import torch"
   ],
   "metadata": {
    "collapsed": false,
    "pycharm": {
     "name": "#%%\n"
    }
   }
  },
  {
   "cell_type": "code",
   "execution_count": 2,
   "outputs": [],
   "source": [
    "ADT_dist = torch.load('./BioTech/data/ADT_dist.pt')\n",
    "SCT_dist = torch.load('./BioTech/data/SCT_dist.pt')"
   ],
   "metadata": {
    "collapsed": false,
    "pycharm": {
     "name": "#%%\n"
    }
   }
  },
  {
   "cell_type": "code",
   "execution_count": 19,
   "outputs": [],
   "source": [
    "import pandas\n",
    "SCT_feature = pandas.read_csv('/home/xiaomeng/jupyter_base/BioTech/data/SCT.csv')"
   ],
   "metadata": {
    "collapsed": false,
    "pycharm": {
     "name": "#%%\n"
    }
   }
  },
  {
   "cell_type": "code",
   "execution_count": null,
   "outputs": [],
   "source": [
    "\n",
    "ADT_feature = pandas.read_csv('/home/xiaomeng/jupyter_base/BioTech/data/ADT.csv')"
   ],
   "metadata": {
    "collapsed": false,
    "pycharm": {
     "name": "#%%\n"
    }
   }
  },
  {
   "cell_type": "code",
   "execution_count": 6,
   "outputs": [],
   "source": [
    "from sklearn.neighbors import NearestNeighbors\n",
    "ADT_neigh = NearestNeighbors(n_neighbors=8)\n",
    "ADT_neigh.fit(ADT_feature.values[:,1:-1])\n",
    "ADT_adj_matrix = ADT_neigh.kneighbors_graph(ADT_feature.values[:,1:-1])"
   ],
   "metadata": {
    "collapsed": false,
    "pycharm": {
     "name": "#%%\n"
    }
   }
  },
  {
   "cell_type": "code",
   "execution_count": 7,
   "outputs": [],
   "source": [
    "SCT_neigh = NearestNeighbors(n_neighbors=8)\n",
    "SCT_neigh.fit(SCT_feature.values[:,1:-1])\n",
    "SCT_adj_matrix = SCT_neigh.kneighbors_graph(SCT_feature.values[:,1:-1])"
   ],
   "metadata": {
    "collapsed": false,
    "pycharm": {
     "name": "#%%\n"
    }
   }
  },
  {
   "cell_type": "code",
   "execution_count": 20,
   "outputs": [
    {
     "data": {
      "text/plain": "<161764x161764 sparse matrix of type '<class 'numpy.float64'>'\n\twith 1294112 stored elements in Compressed Sparse Row format>"
     },
     "execution_count": 20,
     "metadata": {},
     "output_type": "execute_result"
    }
   ],
   "source": [
    "SCT_adj_matrix"
   ],
   "metadata": {
    "collapsed": false,
    "pycharm": {
     "name": "#%%\n"
    }
   }
  },
  {
   "cell_type": "code",
   "execution_count": null,
   "outputs": [],
   "source": [],
   "metadata": {
    "collapsed": false,
    "pycharm": {
     "name": "#%%\n"
    }
   }
  },
  {
   "cell_type": "code",
   "execution_count": 26,
   "outputs": [
    {
     "data": {
      "text/plain": "<Figure size 432x288 with 1 Axes>",
      "image/png": "[encoded data removed]"
     },
     "metadata": {
      "needs_background": "light"
     },
     "output_type": "display_data"
    }
   ],
   "source": [
    "import matplotlib.pyplot as plt\n",
    "for index, i in enumerate(ADT_dist):\n",
    "\tplt.hist(i.numpy(), bins=128, alpha=.4)\n",
    "\tif index > 10:\n",
    "\t\tbreak"
   ],
   "metadata": {
    "collapsed": false,
    "pycharm": {
     "name": "#%%\n"
    }
   }
  },
  {
   "cell_type": "code",
   "execution_count": 27,
   "outputs": [
    {
     "data": {
      "text/plain": "<Figure size 432x288 with 1 Axes>",
      "image/png": "[encoded data removed]"
     },
     "metadata": {
      "needs_background": "light"
     },
     "output_type": "display_data"
    }
   ],
   "source": [
    "for index, i in enumerate(SCT_dist):\n",
    "\tplt.hist(i.numpy(), bins=128, alpha=.4)\n",
    "\tif index > 10:\n",
    "\t\tbreak"
   ],
   "metadata": {
    "collapsed": false,
    "pycharm": {
     "name": "#%%\n"
    }
   }
  },
  {
   "cell_type": "code",
   "execution_count": 8,
   "outputs": [],
   "source": [
    "import networkx\n",
    "SCT_g = networkx.from_numpy_matrix(SCT_adj_matrix)"
   ],
   "metadata": {
    "collapsed": false,
    "pycharm": {
     "name": "#%%\n"
    }
   }
  },
  {
   "cell_type": "code",
   "execution_count": 34,
   "outputs": [
    {
     "data": {
      "text/plain": "<1x161764 sparse matrix of type '<class 'numpy.float64'>'\n\twith 8 stored elements in Compressed Sparse Row format>"
     },
     "execution_count": 34,
     "metadata": {},
     "output_type": "execute_result"
    }
   ],
   "source": [
    "SCT_adj_matrix[0]"
   ],
   "metadata": {
    "collapsed": false,
    "pycharm": {
     "name": "#%%\n"
    }
   }
  },
  {
   "cell_type": "code",
   "execution_count": 9,
   "outputs": [],
   "source": [
    "ADT_g = networkx.from_numpy_matrix(ADT_adj_matrix)"
   ],
   "metadata": {
    "collapsed": false,
    "pycharm": {
     "name": "#%%\n"
    }
   }
  },
  {
   "cell_type": "code",
   "execution_count": 10,
   "outputs": [],
   "source": [
    "import pickle\n",
    "with open('/home/xiaomeng/jupyter_base/BioTech/data/ADT.networkx.g', 'wb') as f:\n",
    "\tpickle.dump(ADT_g, f)"
   ],
   "metadata": {
    "collapsed": false,
    "pycharm": {
     "name": "#%%\n"
    }
   }
  },
  {
   "cell_type": "code",
   "execution_count": 11,
   "outputs": [],
   "source": [
    "import pickle\n",
    "with open('/home/xiaomeng/jupyter_base/BioTech/data/SCT.networkx.g', 'wb') as f:\n",
    "\tpickle.dump(SCT_g, f)"
   ],
   "metadata": {
    "collapsed": false,
    "pycharm": {
     "name": "#%%\n"
    }
   }
  },
  {
   "cell_type": "code",
   "execution_count": 41,
   "outputs": [],
   "source": [
    "import numpy as np\n",
    "np.save('/home/xiaomeng/jupyter_base/BioTech/data/SCT.adj.top8.npy',SCT_adj_matrix)"
   ],
   "metadata": {
    "collapsed": false,
    "pycharm": {
     "name": "#%%\n"
    }
   }
  },
  {
   "cell_type": "code",
   "execution_count": 42,
   "outputs": [],
   "source": [
    "import numpy as np\n",
    "np.save('/home/xiaomeng/jupyter_base/BioTech/data/ADT.adj.top8.npy',ADT_adj_matrix)"
   ],
   "metadata": {
    "collapsed": false,
    "pycharm": {
     "name": "#%%\n"
    }
   }
  },
  {
   "cell_type": "code",
   "execution_count": 44,
   "outputs": [],
   "source": [
    "import dgl\n",
    "import torch.nn as nn"
   ],
   "metadata": {
    "collapsed": false,
    "pycharm": {
     "name": "#%%\n"
    }
   }
  },
  {
   "cell_type": "code",
   "execution_count": 45,
   "outputs": [],
   "source": [
    "from dgl.nn import GraphConv"
   ],
   "metadata": {
    "collapsed": false,
    "pycharm": {
     "name": "#%%\n"
    }
   }
  },
  {
   "cell_type": "code",
   "execution_count": 50,
   "outputs": [],
   "source": [
    "adt_feat = torch.tensor(ADT_feature.values[:, 1:-1].astype(float))\n",
    "sct_feat = torch.tensor(SCT_feature.values[:, 1:-1].astype(float))"
   ],
   "metadata": {
    "collapsed": false,
    "pycharm": {
     "name": "#%%\n"
    }
   }
  },
  {
   "cell_type": "code",
   "execution_count": 54,
   "outputs": [
    {
     "name": "stdout",
     "output_type": "stream",
     "text": [
      "Collecting torch_geometric\r\n",
      "  Downloading torch_geometric-2.1.0.post1.tar.gz (467 kB)\r\n",
      "\u001B[2K     \u001B[90m━━━━━━━━━━━━━━━━━━━━━━━━━━━━━━━━━━━━━━━\u001B[0m \u001B[32m467.0/467.0 kB\u001B[0m \u001B[31m1.3 MB/s\u001B[0m eta \u001B[36m0:00:00\u001B[0m00:01\u001B[0m00:01\u001B[0m\r\n",
      "\u001B[?25h  Preparing metadata (setup.py) ... \u001B[?25ldone\r\n",
      "\u001B[?25hRequirement already satisfied: tqdm in /home/xiaomeng/miniconda3/envs/shaow/lib/python3.9/site-packages (from torch_geometric) (4.64.0)\r\n",
      "Requirement already satisfied: numpy in /home/xiaomeng/miniconda3/envs/shaow/lib/python3.9/site-packages (from torch_geometric) (1.23.1)\r\n",
      "Requirement already satisfied: scipy in /home/xiaomeng/miniconda3/envs/shaow/lib/python3.9/site-packages (from torch_geometric) (1.8.1)\r\n",
      "Requirement already satisfied: jinja2 in /home/xiaomeng/miniconda3/envs/shaow/lib/python3.9/site-packages (from torch_geometric) (3.0.3)\r\n",
      "Requirement already satisfied: requests in /home/xiaomeng/miniconda3/envs/shaow/lib/python3.9/site-packages (from torch_geometric) (2.28.1)\r\n",
      "Requirement already satisfied: pyparsing in /home/xiaomeng/miniconda3/envs/shaow/lib/python3.9/site-packages (from torch_geometric) (3.0.9)\r\n",
      "Requirement already satisfied: scikit-learn in /home/xiaomeng/miniconda3/envs/shaow/lib/python3.9/site-packages (from torch_geometric) (1.1.1)\r\n",
      "Requirement already satisfied: MarkupSafe>=2.0 in /home/xiaomeng/.local/lib/python3.9/site-packages (from jinja2->torch_geometric) (2.1.1)\r\n",
      "Requirement already satisfied: idna<4,>=2.5 in /home/xiaomeng/miniconda3/envs/shaow/lib/python3.9/site-packages (from requests->torch_geometric) (3.3)\r\n",
      "Requirement already satisfied: charset-normalizer<3,>=2 in /home/xiaomeng/miniconda3/envs/shaow/lib/python3.9/site-packages (from requests->torch_geometric) (2.1.0)\r\n",
      "Requirement already satisfied: certifi>=2017.4.17 in /home/xiaomeng/miniconda3/envs/shaow/lib/python3.9/site-packages (from requests->torch_geometric) (2022.9.14)\r\n",
      "Requirement already satisfied: urllib3<1.27,>=1.21.1 in /home/xiaomeng/miniconda3/envs/shaow/lib/python3.9/site-packages (from requests->torch_geometric) (1.26.11)\r\n",
      "Requirement already satisfied: threadpoolctl>=2.0.0 in /home/xiaomeng/miniconda3/envs/shaow/lib/python3.9/site-packages (from scikit-learn->torch_geometric) (3.1.0)\r\n",
      "Requirement already satisfied: joblib>=1.0.0 in /home/xiaomeng/miniconda3/envs/shaow/lib/python3.9/site-packages (from scikit-learn->torch_geometric) (1.1.0)\r\n",
      "Building wheels for collected packages: torch_geometric\r\n",
      "  Building wheel for torch_geometric (setup.py) ... \u001B[?25ldone\r\n",
      "\u001B[?25h  Created wheel for torch_geometric: filename=torch_geometric-2.1.0.post1-py3-none-any.whl size=689860 sha256=069e65edd8a993f959ce34bff96757572bd7e2d4865d1d03f3ca61433fdb338b\r\n",
      "  Stored in directory: /home/xiaomeng/.cache/pip/wheels/d0/1c/ed/a1eeba09902954614d226f99a0b68d203a76155bb3920659f2\r\n",
      "Successfully built torch_geometric\r\n",
      "Installing collected packages: torch_geometric\r\n",
      "Successfully installed torch_geometric-2.1.0.post1\r\n"
     ]
    }
   ],
   "source": [
    "!pip install torch_geometric"
   ],
   "metadata": {
    "collapsed": false,
    "pycharm": {
     "name": "#%%\n"
    }
   }
  },
  {
   "cell_type": "code",
   "execution_count": 55,
   "outputs": [
    {
     "ename": "ModuleNotFoundError",
     "evalue": "No module named 'torch_sparse'",
     "output_type": "error",
     "traceback": [
      "\u001B[0;31m---------------------------------------------------------------------------\u001B[0m",
      "\u001B[0;31mModuleNotFoundError\u001B[0m                       Traceback (most recent call last)",
      "Input \u001B[0;32mIn [55]\u001B[0m, in \u001B[0;36m<cell line: 1>\u001B[0;34m()\u001B[0m\n\u001B[0;32m----> 1\u001B[0m \u001B[38;5;28;01mimport\u001B[39;00m \u001B[38;5;21;01mtorch_geometric\u001B[39;00m\n",
      "File \u001B[0;32m~/miniconda3/envs/shaow/lib/python3.9/site-packages/torch_geometric/__init__.py:4\u001B[0m, in \u001B[0;36m<module>\u001B[0;34m\u001B[0m\n\u001B[1;32m      1\u001B[0m \u001B[38;5;28;01mfrom\u001B[39;00m \u001B[38;5;21;01mtypes\u001B[39;00m \u001B[38;5;28;01mimport\u001B[39;00m ModuleType\n\u001B[1;32m      2\u001B[0m \u001B[38;5;28;01mfrom\u001B[39;00m \u001B[38;5;21;01mimportlib\u001B[39;00m \u001B[38;5;28;01mimport\u001B[39;00m import_module\n\u001B[0;32m----> 4\u001B[0m \u001B[38;5;28;01mimport\u001B[39;00m \u001B[38;5;21;01mtorch_geometric\u001B[39;00m\u001B[38;5;21;01m.\u001B[39;00m\u001B[38;5;21;01mdata\u001B[39;00m\n\u001B[1;32m      5\u001B[0m \u001B[38;5;28;01mimport\u001B[39;00m \u001B[38;5;21;01mtorch_geometric\u001B[39;00m\u001B[38;5;21;01m.\u001B[39;00m\u001B[38;5;21;01mloader\u001B[39;00m\n\u001B[1;32m      6\u001B[0m \u001B[38;5;28;01mimport\u001B[39;00m \u001B[38;5;21;01mtorch_geometric\u001B[39;00m\u001B[38;5;21;01m.\u001B[39;00m\u001B[38;5;21;01mtransforms\u001B[39;00m\n",
      "File \u001B[0;32m~/miniconda3/envs/shaow/lib/python3.9/site-packages/torch_geometric/data/__init__.py:1\u001B[0m, in \u001B[0;36m<module>\u001B[0;34m\u001B[0m\n\u001B[0;32m----> 1\u001B[0m \u001B[38;5;28;01mfrom\u001B[39;00m \u001B[38;5;21;01m.\u001B[39;00m\u001B[38;5;21;01mdata\u001B[39;00m \u001B[38;5;28;01mimport\u001B[39;00m Data\n\u001B[1;32m      2\u001B[0m \u001B[38;5;28;01mfrom\u001B[39;00m \u001B[38;5;21;01m.\u001B[39;00m\u001B[38;5;21;01mhetero_data\u001B[39;00m \u001B[38;5;28;01mimport\u001B[39;00m HeteroData\n\u001B[1;32m      3\u001B[0m \u001B[38;5;28;01mfrom\u001B[39;00m \u001B[38;5;21;01m.\u001B[39;00m\u001B[38;5;21;01mtemporal\u001B[39;00m \u001B[38;5;28;01mimport\u001B[39;00m TemporalData\n",
      "File \u001B[0;32m~/miniconda3/envs/shaow/lib/python3.9/site-packages/torch_geometric/data/data.py:20\u001B[0m, in \u001B[0;36m<module>\u001B[0;34m\u001B[0m\n\u001B[1;32m     18\u001B[0m \u001B[38;5;28;01mimport\u001B[39;00m \u001B[38;5;21;01mtorch\u001B[39;00m\n\u001B[1;32m     19\u001B[0m \u001B[38;5;28;01mfrom\u001B[39;00m \u001B[38;5;21;01mtorch\u001B[39;00m \u001B[38;5;28;01mimport\u001B[39;00m Tensor\n\u001B[0;32m---> 20\u001B[0m \u001B[38;5;28;01mfrom\u001B[39;00m \u001B[38;5;21;01mtorch_sparse\u001B[39;00m \u001B[38;5;28;01mimport\u001B[39;00m SparseTensor\n\u001B[1;32m     22\u001B[0m \u001B[38;5;28;01mfrom\u001B[39;00m \u001B[38;5;21;01mtorch_geometric\u001B[39;00m\u001B[38;5;21;01m.\u001B[39;00m\u001B[38;5;21;01mdata\u001B[39;00m\u001B[38;5;21;01m.\u001B[39;00m\u001B[38;5;21;01mfeature_store\u001B[39;00m \u001B[38;5;28;01mimport\u001B[39;00m (\n\u001B[1;32m     23\u001B[0m     FeatureStore,\n\u001B[1;32m     24\u001B[0m     FeatureTensorType,\n\u001B[1;32m     25\u001B[0m     TensorAttr,\n\u001B[1;32m     26\u001B[0m     _field_status,\n\u001B[1;32m     27\u001B[0m )\n\u001B[1;32m     28\u001B[0m \u001B[38;5;28;01mfrom\u001B[39;00m \u001B[38;5;21;01mtorch_geometric\u001B[39;00m\u001B[38;5;21;01m.\u001B[39;00m\u001B[38;5;21;01mdata\u001B[39;00m\u001B[38;5;21;01m.\u001B[39;00m\u001B[38;5;21;01mgraph_store\u001B[39;00m \u001B[38;5;28;01mimport\u001B[39;00m (\n\u001B[1;32m     29\u001B[0m     EDGE_LAYOUT_TO_ATTR_NAME,\n\u001B[1;32m     30\u001B[0m     EdgeAttr,\n\u001B[0;32m   (...)\u001B[0m\n\u001B[1;32m     34\u001B[0m     edge_tensor_type_to_adj_type,\n\u001B[1;32m     35\u001B[0m )\n",
      "\u001B[0;31mModuleNotFoundError\u001B[0m: No module named 'torch_sparse'"
     ]
    }
   ],
   "source": [
    "import torch_geometric"
   ],
   "metadata": {
    "collapsed": false,
    "pycharm": {
     "name": "#%%\n"
    }
   }
  },
  {
   "cell_type": "code",
   "execution_count": 56,
   "outputs": [],
   "source": [
    "torch.save(adt_feat, '/home/xiaomeng/jupyter_base/BioTech/data/ADT.feat.pt')\n",
    "\n",
    "torch.save(sct_feat, '/home/xiaomeng/jupyter_base/BioTech/data/SCT.feat.pt')"
   ],
   "metadata": {
    "collapsed": false,
    "pycharm": {
     "name": "#%%\n"
    }
   }
  },
  {
   "cell_type": "code",
   "execution_count": 3,
   "outputs": [
    {
     "name": "stdout",
     "output_type": "stream",
     "text": [
      "1.12.1\n",
      "11.6\n"
     ]
    }
   ],
   "source": [
    "import torch\n",
    "print(torch.__version__)\n",
    "print(torch.version.cuda)"
   ],
   "metadata": {
    "collapsed": false,
    "pycharm": {
     "name": "#%%\n"
    }
   }
  },
  {
   "cell_type": "code",
   "execution_count": 7,
   "outputs": [],
   "source": [
    "from torch_geometric.data import Data\n",
    "import torch"
   ],
   "metadata": {
    "collapsed": false,
    "pycharm": {
     "name": "#%%\n"
    }
   }
  },
  {
   "cell_type": "code",
   "execution_count": 9,
   "outputs": [],
   "source": [
    "adt_feat = torch.load('/home/xiaomeng/jupyter_base/BioTech/data/ADT.feat.pt')"
   ],
   "metadata": {
    "collapsed": false,
    "pycharm": {
     "name": "#%%\n"
    }
   }
  },
  {
   "cell_type": "code",
   "execution_count": 13,
   "outputs": [],
   "source": [
    "sct_feat = torch.load('/home/xiaomeng/jupyter_base/BioTech/data/SCT.feat.pt')"
   ],
   "metadata": {
    "collapsed": false,
    "pycharm": {
     "name": "#%%\n"
    }
   }
  },
  {
   "cell_type": "code",
   "execution_count": 6,
   "outputs": [],
   "source": [
    "import numpy as np\n",
    "\n",
    "sct_adj = np.load('/home/xiaomeng/jupyter_base/BioTech/data/SCT.adj.top8.npy', allow_pickle=True)\n",
    "adt_adj = np.load('/home/xiaomeng/jupyter_base/BioTech/data/ADT.adj.top8.npy', allow_pickle=True)"
   ],
   "metadata": {
    "collapsed": false,
    "pycharm": {
     "name": "#%%\n"
    }
   }
  },
  {
   "cell_type": "code",
   "execution_count": 7,
   "outputs": [
    {
     "data": {
      "text/plain": "array(<161764x161764 sparse matrix of type '<class 'numpy.float64'>'\n\twith 1294112 stored elements in Compressed Sparse Row format>,\n      dtype=object)"
     },
     "execution_count": 7,
     "metadata": {},
     "output_type": "execute_result"
    }
   ],
   "source": [
    "sct_adj"
   ],
   "metadata": {
    "collapsed": false,
    "pycharm": {
     "name": "#%%\n"
    }
   }
  },
  {
   "cell_type": "code",
   "execution_count": 8,
   "outputs": [
    {
     "ename": "NameError",
     "evalue": "name 'adt_feat' is not defined",
     "output_type": "error",
     "traceback": [
      "\u001B[0;31m---------------------------------------------------------------------------\u001B[0m",
      "\u001B[0;31mNameError\u001B[0m                                 Traceback (most recent call last)",
      "Input \u001B[0;32mIn [8]\u001B[0m, in \u001B[0;36m<cell line: 1>\u001B[0;34m()\u001B[0m\n\u001B[0;32m----> 1\u001B[0m data \u001B[38;5;241m=\u001B[39m Data(x\u001B[38;5;241m=\u001B[39m\u001B[43madt_feat\u001B[49m, edge_index\u001B[38;5;241m=\u001B[39madt_adj)\n",
      "\u001B[0;31mNameError\u001B[0m: name 'adt_feat' is not defined"
     ]
    }
   ],
   "source": [
    "data = Data(x=adt_feat, edge_index=adt_adj)"
   ],
   "metadata": {
    "collapsed": false,
    "pycharm": {
     "name": "#%%\n"
    }
   }
  },
  {
   "cell_type": "code",
   "execution_count": 13,
   "outputs": [
    {
     "data": {
      "text/plain": "<numpy.flatiter at 0x563f1cc746d0>"
     },
     "execution_count": 13,
     "metadata": {},
     "output_type": "execute_result"
    }
   ],
   "source": [
    "data.edge_index.flat"
   ],
   "metadata": {
    "collapsed": false,
    "pycharm": {
     "name": "#%%\n"
    }
   }
  },
  {
   "cell_type": "code",
   "execution_count": 1,
   "outputs": [],
   "source": [
    "import pickle"
   ],
   "metadata": {
    "collapsed": false,
    "pycharm": {
     "name": "#%%\n"
    }
   }
  },
  {
   "cell_type": "code",
   "execution_count": 16,
   "outputs": [],
   "source": [
    "with open('/home/xiaomeng/jupyter_base/BioTech/data/SCT.networkx.g', 'rb') as f:\n",
    "\tsct_g = pickle.load(f)"
   ],
   "metadata": {
    "collapsed": false,
    "pycharm": {
     "name": "#%%\n"
    }
   }
  },
  {
   "cell_type": "code",
   "execution_count": 17,
   "outputs": [],
   "source": [
    "with open('/home/xiaomeng/jupyter_base/BioTech/data/ADT.networkx.g', 'rb') as f:\n",
    "\tadt_g = pickle.load(f)"
   ],
   "metadata": {
    "collapsed": false,
    "pycharm": {
     "name": "#%%\n"
    }
   }
  },
  {
   "cell_type": "code",
   "execution_count": 18,
   "outputs": [],
   "source": [
    "import networkx\n",
    "sct_adj_coo = networkx.to_scipy_sparse_matrix(sct_g, format='coo', weight=None)"
   ],
   "metadata": {
    "collapsed": false,
    "pycharm": {
     "name": "#%%\n"
    }
   }
  },
  {
   "cell_type": "code",
   "execution_count": 19,
   "outputs": [],
   "source": [
    "adt_adj_coo = networkx.to_scipy_sparse_matrix(adt_g, format='coo', weight=None)"
   ],
   "metadata": {
    "collapsed": false,
    "pycharm": {
     "name": "#%%\n"
    }
   }
  },
  {
   "cell_type": "code",
   "execution_count": 6,
   "outputs": [
    {
     "ename": "NameError",
     "evalue": "name 'Data' is not defined",
     "output_type": "error",
     "traceback": [
      "\u001B[0;31m---------------------------------------------------------------------------\u001B[0m",
      "\u001B[0;31mNameError\u001B[0m                                 Traceback (most recent call last)",
      "Input \u001B[0;32mIn [6]\u001B[0m, in \u001B[0;36m<cell line: 1>\u001B[0;34m()\u001B[0m\n\u001B[0;32m----> 1\u001B[0m data \u001B[38;5;241m=\u001B[39m \u001B[43mData\u001B[49m(x\u001B[38;5;241m=\u001B[39msct_feat, edge_index\u001B[38;5;241m=\u001B[39msct_adj_coo)\n",
      "\u001B[0;31mNameError\u001B[0m: name 'Data' is not defined"
     ]
    }
   ],
   "source": [
    "data = Data(x=sct_feat, edge_index=sct_adj_coo)"
   ],
   "metadata": {
    "collapsed": false,
    "pycharm": {
     "name": "#%%\n"
    }
   }
  },
  {
   "cell_type": "code",
   "execution_count": 21,
   "outputs": [
    {
     "data": {
      "text/plain": "<161764x161764 sparse matrix of type '<class 'numpy.int64'>'\n\twith 2744148 stored elements in COOrdinate format>"
     },
     "execution_count": 21,
     "metadata": {},
     "output_type": "execute_result"
    }
   ],
   "source": [
    "data.edge_index"
   ],
   "metadata": {
    "collapsed": false,
    "pycharm": {
     "name": "#%%\n"
    }
   }
  },
  {
   "cell_type": "code",
   "execution_count": null,
   "outputs": [],
   "source": [
    "data.stores_as"
   ],
   "metadata": {
    "collapsed": false,
    "pycharm": {
     "name": "#%%\n"
    }
   }
  },
  {
   "cell_type": "code",
   "execution_count": 10,
   "outputs": [],
   "source": [
    "import numpy as np"
   ],
   "metadata": {
    "collapsed": false,
    "pycharm": {
     "name": "#%%\n"
    }
   }
  },
  {
   "cell_type": "code",
   "execution_count": null,
   "outputs": [],
   "source": [
    "\n",
    "with open('/home/xiaomeng/jupyter_base/BioTech/data/SCT.adj.coo.npy', 'wb') as f:\n",
    "\tnp.save(f, sct_adj_coo)"
   ],
   "metadata": {
    "collapsed": false,
    "pycharm": {
     "name": "#%%\n"
    }
   }
  },
  {
   "cell_type": "code",
   "execution_count": 24,
   "outputs": [],
   "source": [
    "with open('/home/xiaomeng/jupyter_base/BioTech/data/ADT.adj.coo.npy', 'wb') as f:\n",
    "\tnp.save(f, adt_adj_coo)"
   ],
   "metadata": {
    "collapsed": false,
    "pycharm": {
     "name": "#%%\n"
    }
   }
  },
  {
   "cell_type": "code",
   "execution_count": 17,
   "outputs": [],
   "source": [
    "import torch\n",
    "sample_data = torch.load('./BioTech/data/data.pt')"
   ],
   "metadata": {
    "collapsed": false,
    "pycharm": {
     "name": "#%%\n"
    }
   }
  },
  {
   "cell_type": "code",
   "execution_count": 18,
   "outputs": [
    {
     "data": {
      "text/plain": "(Data(x=[9360, 6775], edge_index=[2, 31158], y=[9360], train_mask=[9360], val_mask=[9360], test_mask=[9360]),\n None)"
     },
     "execution_count": 18,
     "metadata": {},
     "output_type": "execute_result"
    }
   ],
   "source": [
    "sample_data"
   ],
   "metadata": {
    "collapsed": false,
    "pycharm": {
     "name": "#%%\n"
    }
   }
  },
  {
   "cell_type": "code",
   "execution_count": 23,
   "outputs": [],
   "source": [
    "label = SCT_feature.values[:,-1]"
   ],
   "metadata": {
    "collapsed": false,
    "pycharm": {
     "name": "#%%\n"
    }
   }
  },
  {
   "cell_type": "code",
   "execution_count": 24,
   "outputs": [
    {
     "data": {
      "text/plain": "array([8.0, 13.0, 20.0, ..., 2.0, 9.0, 8.0], dtype=object)"
     },
     "execution_count": 24,
     "metadata": {},
     "output_type": "execute_result"
    }
   ],
   "source": [
    "label"
   ],
   "metadata": {
    "collapsed": false,
    "pycharm": {
     "name": "#%%\n"
    }
   }
  },
  {
   "cell_type": "code",
   "execution_count": 25,
   "outputs": [
    {
     "data": {
      "text/plain": "numpy.ndarray"
     },
     "execution_count": 25,
     "metadata": {},
     "output_type": "execute_result"
    }
   ],
   "source": [
    "type(label)"
   ],
   "metadata": {
    "collapsed": false,
    "pycharm": {
     "name": "#%%\n"
    }
   }
  },
  {
   "cell_type": "code",
   "execution_count": 27,
   "outputs": [],
   "source": [
    "label_pt = torch.FloatTensor(label.astype(float))"
   ],
   "metadata": {
    "collapsed": false,
    "pycharm": {
     "name": "#%%\n"
    }
   }
  },
  {
   "cell_type": "code",
   "execution_count": 28,
   "outputs": [],
   "source": [
    "torch.save(label_pt, '/home/xiaomeng/jupyter_base/BioTech/data/label.pt')"
   ],
   "metadata": {
    "collapsed": false,
    "pycharm": {
     "name": "#%%\n"
    }
   }
  },
  {
   "cell_type": "code",
   "execution_count": null,
   "outputs": [],
   "source": [],
   "metadata": {
    "collapsed": false,
    "pycharm": {
     "name": "#%%\n"
    }
   }
  }
 ],
 "metadata": {
  "kernelspec": {
   "display_name": "Python 3",
   "language": "python",
   "name": "python3"
  },
  "language_info": {
   "codemirror_mode": {
    "name": "ipython",
    "version": 2
   },
   "file_extension": ".py",
   "mimetype": "text/x-python",
   "name": "python",
   "nbconvert_exporter": "python",
   "pygments_lexer": "ipython2",
   "version": "2.7.6"
  }
 },
 "nbformat": 4,
 "nbformat_minor": 0
}